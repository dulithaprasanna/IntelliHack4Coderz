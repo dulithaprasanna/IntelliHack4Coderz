{
 "cells": [
  {
   "cell_type": "code",
   "execution_count": 1,
   "metadata": {},
   "outputs": [],
   "source": [
    "import tkinter as tk\n",
    "from tkinter import *\n",
    "from tkinter import ttk\n",
    "import tkinter as tk \n",
    "from PIL import Image,ImageTk"
   ]
  },
  {
   "cell_type": "code",
   "execution_count": 24,
   "metadata": {},
   "outputs": [],
   "source": [
    " \n",
    "#mainframe()"
   ]
  },
  {
   "cell_type": "code",
   "execution_count": 33,
   "metadata": {},
   "outputs": [],
   "source": [
    "class startframe:\n",
    "    def __init__(root):\n",
    "        root = Tk()\n",
    "        root.title(\"Image Verifer\")\n",
    "        root.geometry(\"700x500+150+150\")\n",
    "        my_text = Label(root, text='Is This Correctly Classified???')\n",
    "        my_text.config(font=('times', 30, 'italic bold'))\n",
    "        my_text.pack(ipady=25)\n",
    "        im=Image.open(\"C:/Users/Acer/Desktop/intelli/bottle.jpg\")  #This is the correct location and spelling for my image location\n",
    "        im = im.resize((250,300),Image.ANTIALIAS)\n",
    "        photo=ImageTk.PhotoImage(im)  \n",
    "        my_image = Label(root, image=photo, bd=10)\n",
    "        my_image.pack()\n",
    "        yesim = Image.open(\"C:/Users/Acer/Desktop/intelli/yes.png\")  #This is the correct location and spelling for my image location\n",
    "        yesim = yesim.resize((75,75),Image.ANTIALIAS)\n",
    "        noim = Image.open(\"C:/Users/Acer/Desktop/intelli/no.png\")  #This is the correct location and spelling for my image location\n",
    "        noim = noim.resize((75,75),Image.ANTIALIAS)\n",
    "        yesphoto = ImageTk.PhotoImage(yesim) \n",
    "        nophoto = ImageTk.PhotoImage(noim)\n",
    "        label1 = Label(root, image=yesphoto)\n",
    "        label2 = Label(root, image=nophoto)\n",
    "        label2.pack(fill=Y, padx=170, ipady=15, side=RIGHT)\n",
    "        label1.pack(fill=Y, padx=15, ipady=15, side=RIGHT) \n",
    "        # Bind mouse button 1 click on label\n",
    "        label1.bind(\"<Button-1>\", lambda e:yes_callback())\n",
    "        label2.bind(\"<Button-1>\", lambda e:no_callback())\n",
    "        root.resizable(0,0)\n",
    "        root.mainloop()\n",
    "    def no_callback():\n",
    "        print('Label was clicked No')\n",
    "        self.destroy()\n",
    "        mainframe()\n",
    "    def yes_callback():\n",
    "        print(\"The button was clicked Yes\")\n",
    "    def pred_callback(x):\n",
    "        y = x\n",
    "        print(y)       \n",
    "    "
   ]
  },
  {
   "cell_type": "code",
   "execution_count": 34,
   "metadata": {},
   "outputs": [
    {
     "name": "stdout",
     "output_type": "stream",
     "text": [
      "Label was clicked No\n",
      "5\n",
      "2\n"
     ]
    }
   ],
   "source": [
    "root = Tk()\n",
    "root.title(\"Image Verifer\")\n",
    "root.geometry(\"700x500+150+150\")\n",
    "my_text = Label(root, text='Is This Correctly Classified???')\n",
    "my_text.config(font=('times', 30, 'italic bold'))\n",
    "my_text.pack(ipady=25)\n",
    "im=Image.open(\"C:/Users/Acer/Desktop/intelli/bottle.jpg\")  #This is the correct location and spelling for my image location\n",
    "im = im.resize((250,300),Image.ANTIALIAS)\n",
    "photo=ImageTk.PhotoImage(im)  \n",
    "my_image = Label(root, image=photo, bd=10)\n",
    "my_image.pack()\n",
    "yesim = Image.open(\"C:/Users/Acer/Desktop/intelli/yes.png\")  #This is the correct location and spelling for my image location\n",
    "yesim = yesim.resize((75,75),Image.ANTIALIAS)\n",
    "noim = Image.open(\"C:/Users/Acer/Desktop/intelli/no.png\")  #This is the correct location and spelling for my image location\n",
    "noim = noim.resize((75,75),Image.ANTIALIAS)\n",
    "yesphoto = ImageTk.PhotoImage(yesim) \n",
    "nophoto = ImageTk.PhotoImage(noim)\n",
    "label1 = Label(root, image=yesphoto)\n",
    "label2 = Label(root, image=nophoto)\n",
    "label2.pack(fill=Y, padx=170, ipady=15, side=RIGHT)\n",
    "label1.pack(fill=Y, padx=15, ipady=15, side=RIGHT) \n",
    "def no_callback():\n",
    "    print('Label was clicked No')\n",
    "    root.destroy()\n",
    "    mainframe()\n",
    "def yes_callback():\n",
    "    print(\"The button was clicked Yes\")\n",
    "def pred_callback(x):\n",
    "    y = x\n",
    "    print(y)\n",
    "# Bind mouse button 1 click on label\n",
    "label1.bind(\"<Button-1>\", lambda e:yes_callback())\n",
    "label2.bind(\"<Button-1>\", lambda e:no_callback())\n",
    "root.resizable(0,0)\n",
    "root.mainloop()"
   ]
  },
  {
   "cell_type": "code",
   "execution_count": null,
   "metadata": {},
   "outputs": [
    {
     "name": "stdout",
     "output_type": "stream",
     "text": [
      "5\n",
      "4\n",
      "3\n",
      "2\n",
      "1\n"
     ]
    }
   ],
   "source": [
    "root = Tk()\n",
    "root.title(\"Image Verifer\")\n",
    "root.geometry(\"700x600+150+150\")\n",
    "my_text = Label(root, text='What is this???')\n",
    "my_text.config(font=('times', 30, 'italic bold'))\n",
    "my_text.pack(ipady=25)\n",
    "im=Image.open(\"C:/Users/Acer/Desktop/intelli/bottle.jpg\")  #This is the correct location and spelling for my image location\n",
    "im = im.resize((250,300),Image.ANTIALIAS)\n",
    "photo=ImageTk.PhotoImage(im)  \n",
    "my_image = Label(root, image=photo, bd=10)\n",
    "my_image.pack()\n",
    "label1 = Label(root, text='Cardboard', background='yellow')\n",
    "label2 = Label(root, text='Paper     ', background='orange')\n",
    "label3 = Label(root, text='Glass     ', background='lightgreen')\n",
    "label4 = Label(root, text='Metal     ', background='lightblue')\n",
    "label5 = Label(root, text='Plastic   ', background='pink')\n",
    "\n",
    "label1.pack(fill=X, padx=50, ipady=15, side=RIGHT)  # Pack from right to left\n",
    "label2.pack(fill=X, padx=25, ipady=15, side=RIGHT)\n",
    "label3.pack(fill=X, padx=25, ipady=15, side=RIGHT)  # Pack from right to left\n",
    "label4.pack(fill=X, padx=25, ipady=15, side=RIGHT)\n",
    "label5.pack(fill=X, padx=25, ipady=15, side=RIGHT)  # Pack from right to left\n",
    "\n",
    "label1.bind(\"<Button-1>\", lambda e:pred_callback(1))\n",
    "label2.bind(\"<Button-1>\", lambda e:pred_callback(2))\n",
    "label3.bind(\"<Button-1>\", lambda e:pred_callback(3))\n",
    "label4.bind(\"<Button-1>\", lambda e:pred_callback(4))\n",
    "label5.bind(\"<Button-1>\", lambda e:pred_callback(5))\n",
    "root.mainloop()\n",
    "y = 0\n",
    "def pred_callback(x):\n",
    "    y = x\n",
    "print(y)\n",
    "\n"
   ]
  },
  {
   "cell_type": "code",
   "execution_count": null,
   "metadata": {},
   "outputs": [],
   "source": [
    "\n",
    "    "
   ]
  },
  {
   "cell_type": "code",
   "execution_count": null,
   "metadata": {},
   "outputs": [],
   "source": []
  }
 ],
 "metadata": {
  "kernelspec": {
   "display_name": "Python 3",
   "language": "python",
   "name": "python3"
  },
  "language_info": {
   "codemirror_mode": {
    "name": "ipython",
    "version": 3
   },
   "file_extension": ".py",
   "mimetype": "text/x-python",
   "name": "python",
   "nbconvert_exporter": "python",
   "pygments_lexer": "ipython3",
   "version": "3.6.5"
  }
 },
 "nbformat": 4,
 "nbformat_minor": 2
}
