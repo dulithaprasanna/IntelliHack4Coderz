{
 "cells": [
  {
   "cell_type": "code",
   "execution_count": 13,
   "metadata": {},
   "outputs": [],
   "source": [
    "from tkinter import * \n",
    "from tkinter import filedialog as fd\n",
    "from tkinter import messagebox as ms\n",
    "import PIL # Install Using PIP\n",
    "from PIL import ImageTk, Image\n",
    "\n",
    "#Main Class Object\n",
    "class application:\n",
    "\tdef __init__(self,master):\n",
    "\t\tself.master = master\n",
    "\t\tself.c_size = (700,500)\n",
    "\t\tself.setup_gui(self.c_size)\n",
    "\t\tself.img=None\n",
    "\n",
    "\tdef setup_gui(self,s):\n",
    "\t\tLabel(self.master,text = 'Image Viewer',pady=5,bg='white',\n",
    "\t\t\tfont=('Ubuntu',30)).pack()\n",
    "\t\tself.canvas = Canvas(self.master,height=s[1],width=s[0],\n",
    "\t\t\tbg='black',bd=10,relief='ridge')\n",
    "\t\tself.canvas.pack()\n",
    "\t\t\n",
    "\t\tself.pilImage = Image.open(\"C:/Users/Acer/Desktop/intelli/bottle.jpg\")\n",
    "\t\tre=self.pilImage.resize((700,500),Image.ANTIALIAS)\n",
    "\t\tself.img = ImageTk.PhotoImage(re)\n",
    "\t\t#self.canvas.delete(ALL)\n",
    "\t\tself.canvas.create_image(self.c_size[0]/2+10,self.c_size[1]/2+10, anchor=CENTER,image=self.img)\n",
    "\t\t\n",
    "\t\t\t\n",
    "\t  \t\t\n",
    "\t\t\n",
    "\t\t#self.wt = self.canvas.create_text(s[0]/2-270,s[1]/2,text=txt\n",
    "\t\t\t#,font=('',30),fill='white')\n",
    "\t\t#f=Frame(self.master,bg='white',padx=10,pady=10)\n",
    "\t\t#Button(f,text='Open New Image',bd=2,fg='white',bg='black',font=('',15)\n",
    "\t\t\t#,command=self.make_image).pack(side=LEFT)\n",
    "\t\t\n",
    "\t\tself.status=Label(self.master,text = 'Current Image: None',bg='gray',\n",
    "\t\t\tfont=('Ubuntu',15),bd=2,fg='black',relief='sunken',anchor=W)      \n",
    "\t\tself.status.pack(side=BOTTOM,fill=X)\n",
    "\n",
    "\n",
    "#creating object of class and tk window-\n",
    "root=Tk()\n",
    "root.configure(bg='white')\n",
    "root.title('Image Viewer')\n",
    "application(root)\n",
    "root.resizable(0,0)\n",
    "root.mainloop()"
   ]
  },
  {
   "cell_type": "code",
   "execution_count": 26,
   "metadata": {},
   "outputs": [
    {
     "name": "stdout",
     "output_type": "stream",
     "text": [
      "The button was clicked!\n",
      "The button was clicked!\n"
     ]
    }
   ],
   "source": [
    "root = Tk()\n",
    "root.title(\"Image Verifer\")\n",
    "root.geometry(\"700x600+150+150\")\n",
    "my_text = Label(root, text='Is This Correctly Classified???', background='yellow')\n",
    "my_text.config(font=('times', 30, 'italic bold underline'))\n",
    "my_text.pack()\n",
    "im=Image.open(\"C:/Users/Acer/Desktop/intelli/bottle.jpg\")  #This is the correct location and spelling for my image location\n",
    "photo=ImageTk.PhotoImage(im)  \n",
    "my_image = Label(root, image=photo)\n",
    "my_image.pack()\n",
    "def my_callback():\n",
    "    print(\"The button was clicked!\")\n",
    "yes_button = Button(root, text='Yes', command=my_callback)\n",
    "no_button = Button(root, text='No', command=my_callback)\n",
    "yes_button.pack()\n",
    "yes_button.pack( padx=180, ipady=25, side=RIGHT)  # Pack from right to left\n",
    "no_button.pack( padx=5, ipady=25, side=RIGHT)\n",
    "root.mainloop()"
   ]
  },
  {
   "cell_type": "code",
   "execution_count": null,
   "metadata": {},
   "outputs": [],
   "source": []
  },
  {
   "cell_type": "code",
   "execution_count": null,
   "metadata": {},
   "outputs": [],
   "source": []
  }
 ],
 "metadata": {
  "kernelspec": {
   "display_name": "Python 3",
   "language": "python",
   "name": "python3"
  },
  "language_info": {
   "codemirror_mode": {
    "name": "ipython",
    "version": 3
   },
   "file_extension": ".py",
   "mimetype": "text/x-python",
   "name": "python",
   "nbconvert_exporter": "python",
   "pygments_lexer": "ipython3",
   "version": "3.6.5"
  }
 },
 "nbformat": 4,
 "nbformat_minor": 2
}
